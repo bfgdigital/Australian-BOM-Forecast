{
 "cells": [
  {
   "cell_type": "code",
   "execution_count": 1,
   "id": "c66b08d3-7f81-4857-a4d8-150cbec95a52",
   "metadata": {},
   "outputs": [
    {
     "name": "stderr",
     "output_type": "stream",
     "text": [
      "/Users/ben.fultongillon/.pyenv/versions/3.8.10/lib/python3.8/site-packages/pandas/compat/__init__.py:124: UserWarning: Could not import the lzma module. Your installed Python is incomplete. Attempting to use lzma compression will result in a RuntimeError.\n",
      "  warnings.warn(msg)\n"
     ]
    },
    {
     "data": {
      "text/plain": [
       "True"
      ]
     },
     "execution_count": 1,
     "metadata": {},
     "output_type": "execute_result"
    }
   ],
   "source": [
    "# Checking the integrity of the forecast API data and imputing as necessary.\n",
    "\n",
    "import pandas as pd  # Structure and Dataframes\n",
    "from datetime import datetime, timedelta\n",
    "\n",
    "# SQL & Credentials Management\n",
    "import sqlalchemy\n",
    "import os\n",
    "import dotenv  # Protect db credentials\n",
    "\n",
    "dotenv.load_dotenv()"
   ]
  },
  {
   "cell_type": "code",
   "execution_count": 2,
   "id": "0c503dcb-9d72-4c61-9d5b-b6efccb4d9b3",
   "metadata": {},
   "outputs": [],
   "source": [
    "def fetch_db():\n",
    "    print('LOG: Fetching database...')\n",
    "    database_url = os.environ.get('DATABASE_URL')\n",
    "    engine = sqlalchemy.create_engine(database_url)\n",
    "    db = pd.read_sql('bom-weather', engine)  # Need the whole db.\n",
    "    return db, engine"
   ]
  },
  {
   "cell_type": "code",
   "execution_count": 12,
   "id": "251e2da0-c49c-4284-bd41-abe3dbd8b1c5",
   "metadata": {},
   "outputs": [],
   "source": [
    "def integrity_check():  # Impute any missing data.\n",
    "    db, engine = fetch_db()\n",
    "    db_check = len(db)\n",
    "    print(f'Initial: db length = {len(db)} db_check = {db_check}')\n",
    "\n",
    "    def build_dates_index(db):  # Build index checklist\n",
    "        dates_index = list(set(db['issue']))  # create string based index\n",
    "        dates_index.sort(key=lambda date: datetime.strptime(date, '%Y-%m-%d'))  # Sort string indexes as dates\n",
    "        return dates_index\n",
    "    \n",
    "    print('LOG: Checking for missing data')\n",
    "    dates_index = build_dates_index(db)  # Get a list of issue dates.\n",
    "    missing_dates = pd.date_range(start=dates_index[0], end=dates_index[-1])\\\n",
    "        .difference(pd.to_datetime(dates_index))  # [::-1] (Reverse?)\n",
    "    \n",
    "    print('LOG: Checking for missing dates')\n",
    "    for date in missing_dates:\n",
    "        print(f'LOG: Adding missing date: {date}')\n",
    "        str_date = date.strftime('%Y-%m-%d')\n",
    "        day_before = (date - timedelta(days=1)).date()  # One Day prior\n",
    "        day_after = (date + timedelta(days=1)).date()  # Day after\n",
    "\n",
    "        # THIS NEEDS WORK. BIT SLOPPY\n",
    "        # Take last 6 from day before [1:7] as (0:5)\n",
    "        # and second last from day after [6:7] as (6)\n",
    "        try:\n",
    "            \n",
    "            part2 = db[db['issue'] == str(day_before)][6:7]  # day 7\n",
    "            part1 = db[db['issue'] == str(day_after)][1:7]  # day 1:6\n",
    "            print(f'len of part1 = {len(part1)}')\n",
    "            print(f'len of part2 = {len(part2)}')\n",
    "            new_rows = pd.concat([part1, part2], axis=0)\n",
    "            new_rows['forecast'] = [0, 1, 2, 3, 4, 5, 6]\n",
    "            new_rows['issue'] = str_date\n",
    "            db = db.append(new_rows)\n",
    "        except:\n",
    "            pass\n",
    "\n",
    "        try:\n",
    "            part2 = db[db['issue'] == str(day_before)][0:6]  # day 1:6\n",
    "            part1 = db[db['issue'] == str(day_after)][1:2]  # day 7\n",
    "            print(f'len of part1 = {len(part1)}')\n",
    "            print(f'len of part2 = {len(part2)}')\n",
    "            new_rows = pd.concat([part1, part2], axis=0)\n",
    "            new_rows['forecast'] = [0, 1, 2, 3, 4, 5, 6]\n",
    "            new_rows['issue'] = str_date\n",
    "            db = db.append(new_rows)\n",
    "        except:\n",
    "            # When there are dates either side of date in missing_dates\n",
    "            # this solution cannot work.\n",
    "            # Needs a wider escalation loop that can cover\n",
    "            # multiple days before and behind.\n",
    "            # OR we can run it multiple times (start to finish)\n",
    "            print('\\n!!! Missing dates integrity check failed!!!')\n",
    "            print(f'{str_date}\\n')\n",
    "            continue\n",
    "    \n",
    "    dates_index = build_dates_index(db)  # Rebuild a list of issue dates.\n",
    "    \n",
    "    print('LOG: Checking for missing forecasts')\n",
    "    for date in dates_index:\n",
    "        day_after = (datetime.strptime(date, '%Y-%m-%d') + timedelta(days=1)).date()  # Day after\n",
    "        if len(db[db['issue'] == date]) == 6:\n",
    "            try:\n",
    "                print(f'LOG: Adding missing forecast for: {date}')\n",
    "                new_forecast = db[db['issue'] == str(day_after)][5:6]  # not inc. 7\n",
    "                new_forecast['forecast'] = 6\n",
    "                new_forecast['issue'] = date\n",
    "                db = db.append(new_forecast)\n",
    "            except:\n",
    "                print(f'LOG: No future date available for: {date}')\n",
    "\n",
    "    # In the case of pulling x2 in one day.\n",
    "    db.drop_duplicates(subset=db.columns.difference(['date']), keep='last', inplace=True, ignore_index=True)\n",
    "    db = db.reindex(sorted(db.columns), axis=1)  # Sort Cols alphabetically.\n",
    "    \n",
    "    # If no changes are made, do not write to file.\n",
    "    print(f'db length = {len(db)} db_check = {db_check}')\n",
    "    if len(db) != db_check and len(db) > 600:\n",
    "        print('LOG: Writing corrected db...', '\\n')\n",
    "        db.to_sql('bom-weather', engine, if_exists='replace', index=False)\n",
    "        print('LOG: DB errors resolved.', '\\n')\n",
    "    else:\n",
    "        print('LOG: No DB errors to resolve', '\\n')\n",
    "\n"
   ]
  },
  {
   "cell_type": "code",
   "execution_count": 13,
   "id": "de62f96b-3b6b-42fe-8bec-9e9e8c830550",
   "metadata": {},
   "outputs": [
    {
     "name": "stdout",
     "output_type": "stream",
     "text": [
      "LOG: Fetching database...\n",
      "Initial: db length = 2107 db_check = 2107\n",
      "LOG: Checking for missing data\n",
      "LOG: Checking for missing dates\n",
      "LOG: Adding missing date: 2021-03-07 00:00:00\n",
      "len of part1 = 0\n",
      "len of part2 = 1\n",
      "len of part1 = 0\n",
      "len of part2 = 6\n",
      "\n",
      "!!! Missing dates integrity check failed!!!\n",
      "2021-03-07\n",
      "\n",
      "LOG: Adding missing date: 2021-03-08 00:00:00\n",
      "len of part1 = 6\n",
      "len of part2 = 0\n",
      "len of part1 = 1\n",
      "len of part2 = 0\n",
      "\n",
      "!!! Missing dates integrity check failed!!!\n",
      "2021-03-08\n",
      "\n",
      "LOG: Adding missing date: 2021-04-02 00:00:00\n",
      "len of part1 = 0\n",
      "len of part2 = 1\n",
      "len of part1 = 0\n",
      "len of part2 = 6\n",
      "\n",
      "!!! Missing dates integrity check failed!!!\n",
      "2021-04-02\n",
      "\n",
      "LOG: Adding missing date: 2021-04-03 00:00:00\n",
      "len of part1 = 6\n",
      "len of part2 = 0\n",
      "len of part1 = 1\n",
      "len of part2 = 0\n",
      "\n",
      "!!! Missing dates integrity check failed!!!\n",
      "2021-04-03\n",
      "\n",
      "LOG: Checking for missing forecasts\n",
      "db length = 2107 db_check = 2107\n",
      "LOG: No DB errors to resolve \n",
      "\n"
     ]
    }
   ],
   "source": [
    "integrity_check()"
   ]
  },
  {
   "cell_type": "code",
   "execution_count": null,
   "id": "57a6735a-3ca8-4d2d-b9c1-cc012ffe953c",
   "metadata": {},
   "outputs": [],
   "source": []
  },
  {
   "cell_type": "code",
   "execution_count": null,
   "id": "bdcfbad7-6188-4b2f-a4f6-8cb3969e3f0c",
   "metadata": {},
   "outputs": [],
   "source": []
  }
 ],
 "metadata": {
  "kernelspec": {
   "display_name": "local-venv",
   "language": "python",
   "name": "local-venv"
  },
  "language_info": {
   "codemirror_mode": {
    "name": "ipython",
    "version": 3
   },
   "file_extension": ".py",
   "mimetype": "text/x-python",
   "name": "python",
   "nbconvert_exporter": "python",
   "pygments_lexer": "ipython3",
   "version": "3.8.10"
  }
 },
 "nbformat": 4,
 "nbformat_minor": 5
}
